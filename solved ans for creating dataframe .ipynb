{
 "cells": [
  {
   "cell_type": "code",
   "execution_count": 3,
   "id": "c174fc6f",
   "metadata": {},
   "outputs": [
    {
     "name": "stdout",
     "output_type": "stream",
     "text": [
      "  First Name Last Name                Type     Department  YOE  Salary\n",
      "0       Ayan     Singh  Full-Time Employee  Administation    2    2000\n",
      "1      Rohan   Agarval              Intern      technical    3    5000\n",
      "2       Riya      Shah  Full-Time Employee  Administation    5   10000\n",
      "3       Yash    Bhatia  part-Time Employee      technical    7   10000\n",
      "4  Siddhanth     Khana  Full-Time Employee     Management    6   20000\n"
     ]
    }
   ],
   "source": [
    "import pandas as pd\n",
    "data={\n",
    "    'First Name':['Ayan','Rohan','Riya','Yash','Siddhanth'],\n",
    "    'Last Name':['Singh','Agarval','Shah','Bhatia','Khana'],\n",
    "    'Type':['Full-Time Employee','Intern','Full-Time Employee','part-Time Employee','Full-Time Employee'],\n",
    "    'Department':['Administation','technical','Administation','technical','Management'],\n",
    "    'YOE':[2,3,5,7,6],\n",
    "    'Salary':[2000,5000,10000,10000,20000]\n",
    "}\n",
    "df=pd.DataFrame(data)\n",
    "print(df)"
   ]
  },
  {
   "cell_type": "code",
   "execution_count": 10,
   "id": "010b5e30",
   "metadata": {},
   "outputs": [
    {
     "name": "stdout",
     "output_type": "stream",
     "text": [
      "                            mean    sum\n",
      "                          Salary Salary\n",
      "Type                                   \n",
      "Full-Time Employee  10666.666667  32000\n",
      "Intern               5000.000000   5000\n",
      "part-Time Employee  10000.000000  10000\n"
     ]
    }
   ],
   "source": [
    "pivot=pd.pivot_table(\n",
    " data=df,\n",
    "index='Type',\n",
    "values='Salary',\n",
    "aggfunc=['mean','sum']\n",
    ")\n",
    "print(pivot)"
   ]
  },
  {
   "cell_type": "code",
   "execution_count": 14,
   "id": "08c3daa4",
   "metadata": {},
   "outputs": [
    {
     "name": "stdout",
     "output_type": "stream",
     "text": [
      "                                  Salary\n",
      "Type               Department           \n",
      "Full-Time Employee Administation    6000\n",
      "                   Management      20000\n",
      "Intern             technical        5000\n",
      "part-Time Employee technical       10000\n"
     ]
    }
   ],
   "source": [
    "table=pd.pivot_table(df,index=['Type','Department'],values='Salary',aggfunc='mean')\n",
    "print(table)"
   ]
  },
  {
   "cell_type": "code",
   "execution_count": null,
   "id": "30ea45ce",
   "metadata": {},
   "outputs": [],
   "source": []
  }
 ],
 "metadata": {
  "kernelspec": {
   "display_name": "Python 3 (ipykernel)",
   "language": "python",
   "name": "python3"
  },
  "language_info": {
   "codemirror_mode": {
    "name": "ipython",
    "version": 3
   },
   "file_extension": ".py",
   "mimetype": "text/x-python",
   "name": "python",
   "nbconvert_exporter": "python",
   "pygments_lexer": "ipython3",
   "version": "3.11.4"
  }
 },
 "nbformat": 4,
 "nbformat_minor": 5
}
