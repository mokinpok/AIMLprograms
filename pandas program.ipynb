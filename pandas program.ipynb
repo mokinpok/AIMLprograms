{
 "cells": [
  {
   "cell_type": "code",
   "execution_count": 1,
   "id": "a182823a",
   "metadata": {},
   "outputs": [
    {
     "name": "stdout",
     "output_type": "stream",
     "text": [
      "  Courses    Fee Duration  Discount\n",
      "0  python   2000   30days      1000\n",
      "1    DBMS   2500   40days      2300\n",
      "2    Java   2600   35days      1200\n",
      "3   Spark  22000   60days      2500\n",
      "4    DBMS  24000   30days      2000\n",
      "5  Python   5000   45days       500\n"
     ]
    }
   ],
   "source": [
    "import pandas as pd\n",
    "technologies={'Courses':['python','DBMS','Java','Spark','DBMS','Python'],\n",
    "              'Fee':[2000,2500,2600,22000,24000,5000],\n",
    "              'Duration':['30days','40days','35days','60days','30days','45days'],\n",
    "              'Discount':[1000,2300,1200,2500,2000,500]}\n",
    "df=pd.DataFrame(technologies)\n",
    "print(df)"
   ]
  },
  {
   "cell_type": "code",
   "execution_count": null,
   "id": "97cf909b",
   "metadata": {},
   "outputs": [],
   "source": []
  }
 ],
 "metadata": {
  "kernelspec": {
   "display_name": "Python 3 (ipykernel)",
   "language": "python",
   "name": "python3"
  },
  "language_info": {
   "codemirror_mode": {
    "name": "ipython",
    "version": 3
   },
   "file_extension": ".py",
   "mimetype": "text/x-python",
   "name": "python",
   "nbconvert_exporter": "python",
   "pygments_lexer": "ipython3",
   "version": "3.11.3"
  }
 },
 "nbformat": 4,
 "nbformat_minor": 5
}
