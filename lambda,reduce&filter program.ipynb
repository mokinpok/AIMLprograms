{
 "cells": [
  {
   "cell_type": "code",
   "execution_count": 3,
   "id": "1427ad5b",
   "metadata": {},
   "outputs": [
    {
     "name": "stdout",
     "output_type": "stream",
     "text": [
      "18\n"
     ]
    }
   ],
   "source": [
    "x=lambda a,b,c : a+b+c\n",
    "print(x(5,6,7))"
   ]
  },
  {
   "cell_type": "code",
   "execution_count": 4,
   "id": "838ad8b0",
   "metadata": {},
   "outputs": [
    {
     "name": "stdout",
     "output_type": "stream",
     "text": [
      "[True, False, False, True, False]\n"
     ]
    }
   ],
   "source": [
    "def Start_with_A(s):\n",
    "    return s[0]==\"A\"\n",
    "fruit=[\"Apple\",\"Banana\",\"Pear\",\"Apricot\",\"Orange\"]\n",
    "map_object=map(Start_with_A,fruit)\n",
    "print(list(map_object))"
   ]
  },
  {
   "cell_type": "code",
   "execution_count": 5,
   "id": "b13678c0",
   "metadata": {},
   "outputs": [
    {
     "name": "stdout",
     "output_type": "stream",
     "text": [
      "['Apple', 'Apricot']\n"
     ]
    }
   ],
   "source": [
    "def Start_with_A(s):\n",
    "     return s[0]==\"A\"\n",
    "fruit=[\"Apple\",\"Banana\",\"Pear\",\"Apricot\",\"Orange\"]\n",
    "filter_object=filter(Start_with_A,fruit)\n",
    "print(list(filter_object))"
   ]
  },
  {
   "cell_type": "code",
   "execution_count": 6,
   "id": "5fe321df",
   "metadata": {},
   "outputs": [
    {
     "name": "stdout",
     "output_type": "stream",
     "text": [
      "['Apple', 'Apricot']\n"
     ]
    }
   ],
   "source": [
    "fruit=[\"Apple\",\"Banana\",\"Pear\",\"Apricot\",\"Orange\"]\n",
    "filter_object=filter(lambda s:s[0]==\"A\",fruit)\n",
    "print(list(filter_object))"
   ]
  },
  {
   "cell_type": "code",
   "execution_count": 8,
   "id": "40298959",
   "metadata": {},
   "outputs": [
    {
     "name": "stdout",
     "output_type": "stream",
     "text": [
      "16\n"
     ]
    }
   ],
   "source": [
    "from functools import reduce\n",
    "def add(x,y):\n",
    "    return x+y\n",
    "list=[2,4,7,3]\n",
    "print(reduce(add,list))"
   ]
  },
  {
   "cell_type": "code",
   "execution_count": 10,
   "id": "cc3ba0ca",
   "metadata": {},
   "outputs": [
    {
     "name": "stdout",
     "output_type": "stream",
     "text": [
      "16\n"
     ]
    }
   ],
   "source": [
    "from functools import reduce\n",
    "list=[2,4,7,3]\n",
    "print(reduce(lambda x,y:x+y,list))\n"
   ]
  },
  {
   "cell_type": "code",
   "execution_count": null,
   "id": "de337f01",
   "metadata": {},
   "outputs": [],
   "source": []
  }
 ],
 "metadata": {
  "kernelspec": {
   "display_name": "Python 3 (ipykernel)",
   "language": "python",
   "name": "python3"
  },
  "language_info": {
   "codemirror_mode": {
    "name": "ipython",
    "version": 3
   },
   "file_extension": ".py",
   "mimetype": "text/x-python",
   "name": "python",
   "nbconvert_exporter": "python",
   "pygments_lexer": "ipython3",
   "version": "3.11.3"
  }
 },
 "nbformat": 4,
 "nbformat_minor": 5
}
